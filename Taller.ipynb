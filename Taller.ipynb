{
  "nbformat": 4,
  "nbformat_minor": 0,
  "metadata": {
    "colab": {
      "provenance": []
    },
    "kernelspec": {
      "name": "python3",
      "display_name": "Python 3"
    },
    "language_info": {
      "name": "python"
    }
  },
  "cells": [
    {
      "cell_type": "code",
      "source": [
        "#Notebook\n",
        "numero = float(input(\"Ingrese el número:\"))\n",
        "\n",
        "if numero % 2 == 0:\n",
        "    print(numero, \"es un número par\")\n",
        "\n",
        "else:\n",
        "   print(numero, \"es un número impar\")\n"
      ],
      "metadata": {
        "colab": {
          "base_uri": "https://localhost:8080/"
        },
        "id": "WFno4WhXHqMa",
        "outputId": "8e0bb3cb-dd6d-47f2-eb17-b9c6d7df3b6e"
      },
      "execution_count": null,
      "outputs": [
        {
          "output_type": "stream",
          "name": "stdout",
          "text": [
            "Ingrese el número:21928193341\n",
            "21928193341.0 es un número impar\n"
          ]
        }
      ]
    },
    {
      "cell_type": "code",
      "source": [
        "#Notebook\n",
        "numero1 = float(input(\"Ingrese el primer número: \"))\n",
        "numero2 = float(input(\"Ingrese el segundo número: \"))\n",
        "numero3 = float(input(\"Ingrese el tercer número: \"))\n",
        "\n",
        "if numero1 + numero2 > numero3:\n",
        "  print(numero1, \"+\", numero2,\"=\", numero1 + numero2,  \">\", numero3)\n",
        "elif numero1 + numero2 == numero3:\n",
        "  print(numero1, \"+\", numero2,\"=\", numero1 + numero2,  \"=\", numero3)\n",
        "else:\n",
        "  print( numero1, \"+\" ,numero2, \"=\", numero1 + numero2, \"<\", numero3)\n"
      ],
      "metadata": {
        "colab": {
          "base_uri": "https://localhost:8080/"
        },
        "id": "xw3jKTWdNQzR",
        "outputId": "0c2bbed0-f5f8-449e-97a2-991fc4575503"
      },
      "execution_count": null,
      "outputs": [
        {
          "output_type": "stream",
          "name": "stdout",
          "text": [
            "Ingrese el primer número: 2\n",
            "Ingrese el segundo número: 8\n",
            "Ingrese el tercer número: 10\n",
            "2.0 + 8.0 = 10.0 = 10.0\n"
          ]
        }
      ]
    },
    {
      "cell_type": "code",
      "source": [
        "#Notebook\n",
        "# Solicita al usuario ingresar 5 números reales\n",
        "numeros = []\n",
        "for i in range(5):\n",
        "    numero = float(input(f\"Ingrese el número {i+1}: \"))\n",
        "    numeros.append(numero)\n",
        "\n",
        "# Calcula el promedio\n",
        "promedio = sum(numeros) / len(numeros)\n",
        "\n",
        "# Calcula la mediana\n",
        "numeros_ordenados = sorted(numeros)\n",
        "if len(numeros_ordenados) % 2 == 0:\n",
        "    mediana = (numeros_ordenados[len(numeros_ordenados)//2 - 1] + numeros_ordenados[len(numeros_ordenados)//2]) / 2\n",
        "else:\n",
        "    mediana = numeros_ordenados[len(numeros_ordenados)//2]\n",
        "\n",
        "# Calcula el promedio multiplicativo\n",
        "producto = 1\n",
        "for numero in numeros:\n",
        "    producto *= numero\n",
        "promedio_multiplicativo = producto ** (1/len(numeros))\n",
        "\n",
        "# Ordena los números de forma ascendente y descendente\n",
        "numeros_ascendente = sorted(numeros)\n",
        "numeros_descendente = sorted(numeros, reverse=True)\n",
        "\n",
        "# Calcula la potencia del mayor número elevada al menor número\n",
        "mayor_numero = max(numeros)\n",
        "menor_numero = min(numeros)\n",
        "potencia = mayor_numero ** menor_numero\n",
        "\n",
        "# Calcula la raíz cúbica del menor número\n",
        "raiz_cubica = menor_numero ** (1/3)\n",
        "\n",
        "# Imprime los resultados\n",
        "print(\"Promedio:\", promedio)\n",
        "print(\"Mediana:\", mediana)\n",
        "print(\"Promedio multiplicativo:\", promedio_multiplicativo)\n",
        "print(\"Números en orden ascendente:\", numeros_ascendente)\n",
        "print(\"Números en orden descendente:\", numeros_descendente)\n",
        "print(\"Potencia del mayor número elevada al menor número:\", potencia)\n",
        "print(\"Raíz cúbica del menor número:\", raiz_cubica)\n"
      ],
      "metadata": {
        "colab": {
          "base_uri": "https://localhost:8080/"
        },
        "id": "x_WlyDHyWozr",
        "outputId": "01dc7548-e4a4-4f8b-de2a-2144b882eda7"
      },
      "execution_count": null,
      "outputs": [
        {
          "output_type": "stream",
          "name": "stdout",
          "text": [
            "Ingrese el número 1: 5\n",
            "Ingrese el número 2: 6\n",
            "Ingrese el número 3: 7\n",
            "Ingrese el número 4: 8\n",
            "Ingrese el número 5: 9\n",
            "Promedio: 7.0\n",
            "Mediana: 7.0\n",
            "Promedio multiplicativo: 6.853467509397648\n",
            "Números en orden ascendente: [5.0, 6.0, 7.0, 8.0, 9.0]\n",
            "Números en orden descendente: [9.0, 8.0, 7.0, 6.0, 5.0]\n",
            "Potencia del mayor número elevada al menor número: 59049.0\n",
            "Raíz cúbica del menor número: 1.7099759466766968\n"
          ]
        }
      ]
    },
    {
      "cell_type": "code",
      "source": [
        "#Notebook\n",
        "# Diccionario de capitales de países de América\n",
        "capitales_americas = {\n",
        "    \"argentina\": \"Buenos Aires\",\n",
        "    \"bolivia\": \"La Paz\",\n",
        "    \"brasil\": \"Brasilia\",\n",
        "    \"canada\": \"Ottawa\",\n",
        "    \"chile\": \"Santiago\",\n",
        "    \"colombia\": \"Bogotá\",\n",
        "    \"costa rica\": \"San José\",\n",
        "    \"cuba\": \"La Habana\",\n",
        "    \"ecuador\": \"Quito\",\n",
        "    \"el salvador\": \"San Salvador\",\n",
        "    \"estados unidos\": \"Washington D.C.\",\n",
        "    \"guatemala\": \"Ciudad de Guatemala\",\n",
        "    \"honduras\": \"Tegucigalpa\",\n",
        "    \"mexico\": \"Ciudad de México\",\n",
        "    \"nicaragua\": \"Managua\",\n",
        "    \"panama\": \"Panamá\",\n",
        "    \"paraguay\": \"Asunción\",\n",
        "    \"peru\": \"Lima\",\n",
        "    \"uruguay\": \"Montevideo\",\n",
        "    \"venezuela\": \"Caracas\",\n",
        "    \"dominica\": \"Roseau\",\n",
        "    \"ecuador\": \"Quito\",\n",
        "    \"granada\": \"Saint George's\",\n",
        "    \"haiti\": \"Puerto Príncipe\",\n",
        "    \"jamaica\": \"Kingston\",\n",
        "    \"saint kitts and nevis\": \"Basseterre\",\n",
        "    \"saint lucia\": \"Castries\",\n",
        "    \"saint vincent and the grenadines\": \"Kingstown\",\n",
        "    \"suriname\": \"Paramaribo\",\n",
        "    \"trinidad and tobago\": \"Puerto España\"\n",
        "}\n",
        "\n",
        "# Solicita al usuario ingresar el nombre de un país en minúsculas\n",
        "pais = input(\"Ingrese el nombre del país en minúsculas: \")\n",
        "\n",
        "# Busca la capital del país en el diccionario\n",
        "capital = capitales_americas.get(pais, \"país no identificado\")\n",
        "\n",
        "# Imprime la capital del país o un mensaje si no se encontró el país en el diccionario\n",
        "print(\"La capital de\", pais.capitalize(), \"es:\", capital)\n"
      ],
      "metadata": {
        "colab": {
          "base_uri": "https://localhost:8080/"
        },
        "id": "ReqamVB8ZyZY",
        "outputId": "99ab8eb9-80c4-44ce-9d97-f7615735b871"
      },
      "execution_count": null,
      "outputs": [
        {
          "output_type": "stream",
          "name": "stdout",
          "text": [
            "Ingrese el nombre del país en minúsculas: argentina\n",
            "La capital de Argentina es: Buenos Aires\n"
          ]
        }
      ]
    },
    {
      "cell_type": "code",
      "source": [
        "# Definimos las velocidades en metros por segundo\n",
        "velocidad_luz = 299792458  # m/s\n",
        "velocidad_sonido = 343  # m/s (en el aire)\n",
        "velocidad_vehiculo_comercial = 97.2  # m/s (aprox. 350 km/h)\n",
        "velocidad_bolt = 12.42  # m/s (aprox. 44.72 km/h)\n",
        "\n",
        "# Solicitamos al usuario ingresar la distancia en metros\n",
        "distancia = float(input(\"Ingrese la distancia en metros: \"))\n",
        "\n",
        "# Calculamos los tiempos en segundos\n",
        "tiempo_luz = distancia / velocidad_luz\n",
        "tiempo_sonido = distancia / velocidad_sonido\n",
        "tiempo_vehiculo_comercial = distancia / velocidad_vehiculo_comercial\n",
        "tiempo_bolt = distancia / velocidad_bolt\n",
        "\n",
        "# Imprimimos los resultados\n",
        "print(\"Tiempo que tomaría a la luz recorrer la distancia:\", tiempo_luz, \"segundos\")\n",
        "print(\"Tiempo que tomaría al sonido recorrer la distancia:\", tiempo_sonido, \"segundos\")\n",
        "print(\"Tiempo que tomaría al vehículo comercial más veloz recorrer la distancia:\", tiempo_vehiculo_comercial, \"segundos\")\n",
        "print(\"Tiempo que tomaría a Usain Bolt recorrer la distancia:\", tiempo_bolt, \"segundos\")\n"
      ],
      "metadata": {
        "colab": {
          "base_uri": "https://localhost:8080/"
        },
        "id": "2dL45hlDZ12e",
        "outputId": "83e50ef3-3611-4c7e-de15-ced2f8971d34"
      },
      "execution_count": null,
      "outputs": [
        {
          "output_type": "stream",
          "name": "stdout",
          "text": [
            "Ingrese la distancia en metros: 1920\n",
            "Tiempo que tomaría a la luz recorrer la distancia: 6.404430627804519e-06 segundos\n",
            "Tiempo que tomaría al sonido recorrer la distancia: 5.597667638483965 segundos\n",
            "Tiempo que tomaría al vehículo comercial más veloz recorrer la distancia: 19.753086419753085 segundos\n",
            "Tiempo que tomaría a Usain Bolt recorrer la distancia: 154.58937198067633 segundos\n"
          ]
        }
      ]
    }
  ]
}